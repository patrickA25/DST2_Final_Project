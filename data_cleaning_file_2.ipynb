{
 "cells": [
  {
   "cell_type": "code",
   "execution_count": 47,
   "metadata": {
    "collapsed": true
   },
   "outputs": [],
   "source": [
    "import pandas as pd\n",
    "from datetime import datetime"
   ]
  },
  {
   "cell_type": "markdown",
   "source": [
    "# Cleaning Customer Data"
   ],
   "metadata": {
    "collapsed": false
   }
  },
  {
   "cell_type": "code",
   "execution_count": 29,
   "outputs": [],
   "source": [
    "# Building one data file for customers\n",
    "cases_df = pd.read_csv('raw_data/customer_cases.csv')\n",
    "customerInfo_df = pd.read_csv('raw_data/customer_info.csv')\n",
    "customerProd_df = pd.read_csv('raw_data/customer_product.csv')\n",
    "prodInfo_df = pd.read_csv('raw_data/product_info.csv')"
   ],
   "metadata": {
    "collapsed": false
   }
  },
  {
   "cell_type": "code",
   "execution_count": 74,
   "outputs": [],
   "source": [
    "#Need to update col date time in cases df\n",
    "cases_df['date_time'] = pd.to_datetime(cases_df['date_time'])\n",
    "# No data types in customer info need to be adjusted\n",
    "#need to update sinup_date_time and canel_date_time\n",
    "customerProd_df['signup_date_time'] = pd.to_datetime(customerProd_df['signup_date_time'])\n",
    "customerProd_df['cancel_date_time'] = pd.to_datetime(customerProd_df['cancel_date_time'])\n",
    "# No data types need to be adjusted in prodinfo_df"
   ],
   "metadata": {
    "collapsed": false
   }
  },
  {
   "cell_type": "code",
   "execution_count": 75,
   "outputs": [
    {
     "name": "stdout",
     "output_type": "stream",
     "text": [
      "2017-01-01 07:55:42 , 2021-12-31 19:38:21\n",
      "2017-01-08 15:14:53 , 2021-12-31 21:44:10\n"
     ]
    }
   ],
   "source": [
    "#Need to find the start and end of the data set to filter out\n",
    "#non-need information\n",
    "#The time frame will be form jan-1-2017 to dec-31-2021\n",
    "#this is good becasue there is a lot of econmic use in this\n",
    "print(customerProd_df.signup_date_time.min(),\",\",customerProd_df.signup_date_time.max())\n",
    "print(customerProd_df.cancel_date_time.min(),\",\",customerProd_df.cancel_date_time.max())\n",
    "minDate = str(datetime.date(customerProd_df['signup_date_time'].min()))\n",
    "maxDate = str(datetime.date(customerProd_df['cancel_date_time'].max()))"
   ],
   "metadata": {
    "collapsed": false
   }
  },
  {
   "cell_type": "markdown",
   "source": [
    "# Cleaning Other files"
   ],
   "metadata": {
    "collapsed": false
   }
  },
  {
   "cell_type": "code",
   "execution_count": null,
   "outputs": [],
   "source": [
    "#Function for cleaning other files\n",
    "def filter_files_by_date(df,filter_col: str,start_date: str,end_date: str):\n",
    "    new_df = df[(df[filter_col] >= start_date) &\n",
    "                (df[filter_col] < end_date)]\n",
    "    return new_df"
   ],
   "metadata": {
    "collapsed": false
   }
  },
  {
   "cell_type": "code",
   "execution_count": 72,
   "outputs": [],
   "source": [
    "Fed_df = pd.read_csv('raw_data/FEDFUNDS.csv')\n",
    "Fed_df['DATE'] = pd.to_datetime(Fed_df['DATE'], format='%Y-%m-%d')\n",
    "Fed_df.head()\n",
    "FedClean_df = filter_files_by_date(Fed_df,'DATE',minDate,maxDate).reset_index(drop=True)"
   ],
   "metadata": {
    "collapsed": false
   }
  },
  {
   "cell_type": "code",
   "execution_count": 103,
   "outputs": [],
   "source": [
    "CPI_df = pd.read_csv('raw_data/CPI_Inflation_2012_2022.csv')\n",
    "CPI_df = CPI_df.drop(['Annual','HALF1','HALF2'],axis=1)\n",
    "CPI_df = CPI_df.melt(id_vars=['Year'], var_name='month', value_name='inflation')\n",
    "CPI_df['Date'] = pd.to_datetime(CPI_df['Year'].astype(str) +\"-\" + CPI_df['month'] + '-01',format='%Y-%b-%d')\n",
    "CPIClean_df = filter_files_by_date(CPI_df,'Date',minDate,maxDate).reset_index(drop=True)"
   ],
   "metadata": {
    "collapsed": false
   }
  },
  {
   "cell_type": "code",
   "execution_count": 108,
   "outputs": [],
   "source": [
    "ICS_df = pd.read_csv('raw_data/Index_of_Consumer_Sentiment.csv')\n",
    "ICS_df['Date'] = pd.to_datetime(ICS_df['YYYY'].astype(str) +\"-\" + ICS_df['Month'] + '-01',format='%Y-%B-%d')\n",
    "ICSClean_df = filter_files_by_date(ICS_df,'Date',minDate,maxDate).reset_index(drop=True)"
   ],
   "metadata": {
    "collapsed": false
   }
  },
  {
   "cell_type": "code",
   "execution_count": 109,
   "outputs": [],
   "source": [
    "ICSClean_df.to_csv('prepared_data/ICS.csv')\n",
    "CPI_df.to_csv('prepared_data/CPI.csv')\n",
    "FedClean_df.to_csv('prepared_data/FedData.csv')\n",
    "cases_df.to_csv('prepared_data/Cases_df.csv')\n",
    "customerInfo_df.to_csv('prepared_data/CustomerInfo.csv')\n",
    "customerProd_df.to_csv('prepared_data/CustomerProd.csv')\n",
    "prodInfo_df.to_csv('prepared_data/Prod_info.csv')"
   ],
   "metadata": {
    "collapsed": false
   }
  }
 ],
 "metadata": {
  "kernelspec": {
   "display_name": "Python 3",
   "language": "python",
   "name": "python3"
  },
  "language_info": {
   "codemirror_mode": {
    "name": "ipython",
    "version": 2
   },
   "file_extension": ".py",
   "mimetype": "text/x-python",
   "name": "python",
   "nbconvert_exporter": "python",
   "pygments_lexer": "ipython2",
   "version": "2.7.6"
  }
 },
 "nbformat": 4,
 "nbformat_minor": 0
}
